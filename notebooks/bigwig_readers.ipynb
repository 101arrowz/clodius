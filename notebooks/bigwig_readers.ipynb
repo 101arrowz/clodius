{
 "cells": [
  {
   "cell_type": "code",
   "execution_count": 2,
   "metadata": {
    "ExecuteTime": {
     "end_time": "2017-05-28T10:09:24.387819Z",
     "start_time": "2017-05-28T10:09:23.350991Z"
    }
   },
   "outputs": [
    {
     "name": "stderr",
     "output_type": "stream",
     "text": [
      "/Users/peter/.virtualenvs/env4/lib/python2.7/site-packages/matplotlib/font_manager.py:280: UserWarning: Matplotlib is building the font cache using fc-list. This may take a moment.\n",
      "  'Matplotlib is building the font cache using fc-list. '\n"
     ]
    }
   ],
   "source": [
    "%matplotlib inline"
   ]
  },
  {
   "cell_type": "code",
   "execution_count": 1,
   "metadata": {
    "ExecuteTime": {
     "end_time": "2017-05-28T10:09:34.116220Z",
     "start_time": "2017-05-28T10:09:33.611917Z"
    },
    "collapsed": true
   },
   "outputs": [],
   "source": [
    "import matplotlib.pyplot as plt\n",
    "import pandas as pd\n",
    "import numpy as np\n",
    "import pyBigWig\n",
    "import bbi"
   ]
  },
  {
   "cell_type": "code",
   "execution_count": 3,
   "metadata": {
    "collapsed": true
   },
   "outputs": [],
   "source": [
    "remote_path = ('http://hgdownload.cse.ucsc.edu/goldenPath/hg19/encodeDCC/wgEncodeSydhTfbs/'\n",
    "               'wgEncodeSydhTfbsGm12878Ctcfsc15914c20StdSig.bigWig')\n",
    "local_path = 'wgEncodeSydhTfbsGm12878Ctcfsc15914c20StdSig.bigWig'\n"
   ]
  },
  {
   "cell_type": "code",
   "execution_count": 4,
   "metadata": {},
   "outputs": [
    {
     "name": "stdout",
     "output_type": "stream",
     "text": [
      "--2017-05-30 13:46:51--  http://hgdownload.cse.ucsc.edu/goldenPath/hg19/encodeDCC/wgEncodeSydhTfbs/wgEncodeSydhTfbsGm12878Ctcfsc15914c20StdSig.bigWig\n",
      "Resolving hgdownload.cse.ucsc.edu... 128.114.119.163\n",
      "Connecting to hgdownload.cse.ucsc.edu|128.114.119.163|:80... connected.\n",
      "HTTP request sent, awaiting response... 200 OK\n",
      "Length: 286285853 (273M) [text/plain]\n",
      "Saving to: ‘wgEncodeSydhTfbsGm12878Ctcfsc15914c20StdSig.bigWig’\n",
      "\n",
      "wgEncodeSydhTfbsGm1 100%[===================>] 273.02M  8.43MB/s    in 35s     \n",
      "\n",
      "2017-05-30 13:47:27 (7.74 MB/s) - ‘wgEncodeSydhTfbsGm12878Ctcfsc15914c20StdSig.bigWig’ saved [286285853/286285853]\n",
      "\n"
     ]
    }
   ],
   "source": [
    "!wget http://hgdownload.cse.ucsc.edu/goldenPath/hg19/encodeDCC/wgEncodeSydhTfbs/wgEncodeSydhTfbsGm12878Ctcfsc15914c20StdSig.bigWig"
   ]
  },
  {
   "cell_type": "code",
   "execution_count": 2,
   "metadata": {
    "ExecuteTime": {
     "end_time": "2017-05-28T10:09:39.299148Z",
     "start_time": "2017-05-28T10:09:39.293909Z"
    },
    "collapsed": true
   },
   "outputs": [],
   "source": []
  },
  {
   "cell_type": "code",
   "execution_count": 6,
   "metadata": {
    "ExecuteTime": {
     "end_time": "2017-05-28T10:09:42.803141Z",
     "start_time": "2017-05-28T10:09:40.785304Z"
    },
    "collapsed": true
   },
   "outputs": [],
   "source": [
    "bwf_remote = pyBigWig.open(remote_path)\n",
    "bwf_local = pyBigWig.open(local_path)\n",
    "chromsizes = bwf_remote.chroms()"
   ]
  },
  {
   "cell_type": "code",
   "execution_count": 17,
   "metadata": {
    "ExecuteTime": {
     "end_time": "2017-05-28T10:10:02.877317Z",
     "start_time": "2017-05-28T10:10:02.870510Z"
    },
    "collapsed": true
   },
   "outputs": [],
   "source": [
    "nbins = 1024\n",
    "\n",
    "chrom = 'chr1'\n",
    "start = 0\n",
    "end = (chromsizes[chrom] // nbins) * nbins"
   ]
  },
  {
   "cell_type": "code",
   "execution_count": 18,
   "metadata": {
    "ExecuteTime": {
     "end_time": "2017-05-28T10:10:07.825770Z",
     "start_time": "2017-05-28T10:10:06.094611Z"
    }
   },
   "outputs": [
    {
     "name": "stdout",
     "output_type": "stream",
     "text": [
      "CPU times: user 1.33 ms, sys: 5.93 ms, total: 7.26 ms\n",
      "Wall time: 1.47 s\n"
     ]
    }
   ],
   "source": [
    "%time bwf = pyBigWig.open(remote_path)"
   ]
  },
  {
   "cell_type": "code",
   "execution_count": 19,
   "metadata": {
    "ExecuteTime": {
     "end_time": "2017-05-28T10:11:14.341404Z",
     "start_time": "2017-05-28T10:11:13.145445Z"
    },
    "scrolled": false
   },
   "outputs": [
    {
     "ename": "RuntimeError",
     "evalue": "An error was encountered while fetching statistics.",
     "output_type": "error",
     "traceback": [
      "\u001b[0;31m---------------------------------------------------------------------------\u001b[0m",
      "\u001b[0;31mRuntimeError\u001b[0m                              Traceback (most recent call last)",
      "\u001b[0;32m<ipython-input-19-c4c0def5fb65>\u001b[0m in \u001b[0;36m<module>\u001b[0;34m()\u001b[0m\n\u001b[0;32m----> 1\u001b[0;31m \u001b[0mbwf_remote\u001b[0m\u001b[0;34m.\u001b[0m\u001b[0mstats\u001b[0m\u001b[0;34m(\u001b[0m\u001b[0mchrom\u001b[0m\u001b[0;34m,\u001b[0m \u001b[0mstart\u001b[0m\u001b[0;34m=\u001b[0m\u001b[0mstart\u001b[0m\u001b[0;34m,\u001b[0m \u001b[0mend\u001b[0m\u001b[0;34m=\u001b[0m\u001b[0mend\u001b[0m\u001b[0;34m,\u001b[0m \u001b[0mnBins\u001b[0m\u001b[0;34m=\u001b[0m\u001b[0mnbins\u001b[0m\u001b[0;34m)\u001b[0m\u001b[0;34m\u001b[0m\u001b[0m\n\u001b[0m",
      "\u001b[0;31mRuntimeError\u001b[0m: An error was encountered while fetching statistics."
     ]
    }
   ],
   "source": [
    "bwf_remote.stats(chrom, start=start, end=end, nBins=nbins)"
   ]
  },
  {
   "cell_type": "code",
   "execution_count": null,
   "metadata": {
    "ExecuteTime": {
     "end_time": "2017-05-28T10:11:24.307192Z",
     "start_time": "2017-05-28T10:11:17.045611Z"
    }
   },
   "outputs": [],
   "source": [
    "%timeit x = bbi.fetch(local_path, 'chr1', 0, -1, bins=nbins)"
   ]
  },
  {
   "cell_type": "code",
   "execution_count": 23,
   "metadata": {
    "ExecuteTime": {
     "end_time": "2017-05-28T10:11:57.641319Z",
     "start_time": "2017-05-28T10:11:57.163267Z"
    }
   },
   "outputs": [
    {
     "name": "stdout",
     "output_type": "stream",
     "text": [
      "1 loop, best of 3: 328 ms per loop\n"
     ]
    }
   ],
   "source": [
    "%timeit bbi.fetch(remote_path, 'chr1', 0, -1, bins=nbins)"
   ]
  },
  {
   "cell_type": "code",
   "execution_count": 15,
   "metadata": {
    "ExecuteTime": {
     "end_time": "2017-05-28T10:12:02.925526Z",
     "start_time": "2017-05-28T10:12:02.543312Z"
    }
   },
   "outputs": [
    {
     "data": {
      "text/plain": [
       "[<matplotlib.lines.Line2D at 0x1052db3d0>]"
      ]
     },
     "execution_count": 15,
     "metadata": {},
     "output_type": "execute_result"
    },
    {
     "data": {
      "image/png": "[encoded data removed]",
      "text/plain": [
       "<matplotlib.figure.Figure at 0x10517f7d0>"
      ]
     },
     "metadata": {},
     "output_type": "display_data"
    }
   ],
   "source": [
    "plt.plot(x)"
   ]
  },
  {
   "cell_type": "code",
   "execution_count": 33,
   "metadata": {},
   "outputs": [
    {
     "name": "stdout",
     "output_type": "stream",
     "text": [
      "1 loop, best of 3: 326 ms per loop\n"
     ]
    }
   ],
   "source": [
    "%timeit bbi.fetch(remote_path, 'chr1', 0, -1, bins=10)"
   ]
  },
  {
   "cell_type": "code",
   "execution_count": 19,
   "metadata": {},
   "outputs": [],
   "source": [
    "su = bbi.stackup(remote_path, ['chr1', 'chr2', 'chr3'], \n",
    "                              [0,0,0],\n",
    "                              [1000000,1000000,1000000], \n",
    "                              bins=1000)"
   ]
  },
  {
   "cell_type": "code",
   "execution_count": 20,
   "metadata": {},
   "outputs": [
    {
     "name": "stdout",
     "output_type": "stream",
     "text": [
      "('su:', array([[   0.        ,    0.        ,    0.        , ...,    2.63254593,\n",
      "           4.982     ,  159.944     ],\n",
      "       [   0.        ,    0.        ,    0.        , ...,    1.29638554,\n",
      "           1.11831442,    1.47146739],\n",
      "       [   0.        ,    0.        ,    0.        , ...,    1.89215686,\n",
      "           1.63984674,    1.4385511 ]]))\n",
      "('sum:', 2783.0688241617972)\n"
     ]
    },
    {
     "data": {
      "text/plain": [
       "[<matplotlib.lines.Line2D at 0x10683ad10>]"
      ]
     },
     "execution_count": 20,
     "metadata": {},
     "output_type": "execute_result"
    }
   ],
   "source": [
    "print(\"su:\", su)\n",
    "print(\"sum:\", sum(su[0]))\n",
    "plt.plot(su[0])"
   ]
  },
  {
   "cell_type": "code",
   "execution_count": 6,
   "metadata": {},
   "outputs": [
    {
     "name": "stdout",
     "output_type": "stream",
     "text": [
      "('elapsed:', 1.91758394241333, 0.09131352106730144)\n"
     ]
    }
   ],
   "source": [
    "import multiprocessing as mp\n",
    "import time\n",
    "\n",
    "def f(x): \n",
    "    return bbi.fetch(remote_path, x, 0, -1, bins=12)\n",
    "    \n",
    "p = mp.Pool(processes=32)\n",
    "t1 = time.time()\n",
    "\n",
    "chroms = ['chr1', 'chr2', 'chr3', 'chr4', 'chr5', 'chr6', 'chr7', 'chr8', 'chr9', \n",
    "          'chr10', 'chr11', 'chr12', 'chr13', 'chr14', 'chr15', 'chr16', 'chr17', \n",
    "          'chr18', 'chr19', 'chr20', 'chr21']\n",
    "res = p.map(f, chroms)\n",
    "\n",
    "elapsed = time.time() - t1\n",
    "p.close()\n",
    "print(\"elapsed:\", elapsed, elapsed / len(chroms))"
   ]
  },
  {
   "cell_type": "code",
   "execution_count": 39,
   "metadata": {},
   "outputs": [
    {
     "data": {
      "text/plain": [
       "[array([  5.43186158,  20.52872366,  19.30699787, ...,   3.40318259,\n",
       "          4.25415871,   7.90668938]),\n",
       " array([ 2.25711115,  2.83359405,  4.05149642, ...,  4.94300203,\n",
       "         5.13939115,  3.75577722]),\n",
       " array([ 2.5940948 ,  2.19404323,  4.13308957, ...,  4.49267942,\n",
       "         3.45634396,  7.90211269]),\n",
       " array([ 2.93448807,  3.65983643,  1.88325037, ...,  3.34083032,\n",
       "         6.13394103,  5.45970123]),\n",
       " array([ 3.39912753,  6.93595269,  4.79697881, ...,  2.62362566,\n",
       "         9.11551123,  1.17056856]),\n",
       " array([ 57.321365  ,   9.88715681,   4.63744528, ...,   2.46225356,\n",
       "          5.59673445,   2.05052468]),\n",
       " array([ 1.90379098,  2.54250505,  3.18566446, ...,  3.50043186,\n",
       "         1.76975759,  1.71648513]),\n",
       " array([ 13.29844688,   6.54299569,   2.99618026, ...,   5.5144625 ,\n",
       "          5.88318052,   6.56536451])]"
      ]
     },
     "execution_count": 39,
     "metadata": {},
     "output_type": "execute_result"
    }
   ],
   "source": [
    "res"
   ]
  },
  {
   "cell_type": "code",
   "execution_count": null,
   "metadata": {
    "collapsed": true
   },
   "outputs": [],
   "source": []
  }
 ],
 "metadata": {
  "gist": {
   "data": {
    "description": "bigwig_readers",
    "public": false
   },
   "id": ""
  },
  "kernelspec": {
   "display_name": "Python 2",
   "language": "python",
   "name": "python2"
  },
  "language_info": {
   "codemirror_mode": {
    "name": "ipython",
    "version": 2
   },
   "file_extension": ".py",
   "mimetype": "text/x-python",
   "name": "python",
   "nbconvert_exporter": "python",
   "pygments_lexer": "ipython2",
   "version": "2.7.11"
  },
  "toc": {
   "toc_cell": false,
   "toc_number_sections": true,
   "toc_threshold": 6,
   "toc_window_display": false
  }
 },
 "nbformat": 4,
 "nbformat_minor": 2
}
